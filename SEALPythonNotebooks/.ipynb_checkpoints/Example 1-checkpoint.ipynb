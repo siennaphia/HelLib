{
 "cells": [
  {
   "cell_type": "markdown",
   "metadata": {},
   "source": [
    "# PySeal Example 1\n",
    "Firstly, let's import some modules that we will depend on in the next examples."
   ]
  },
  {
   "cell_type": "code",
   "execution_count": 10,
   "metadata": {},
   "outputs": [
    {
     "ename": "ModuleNotFoundError",
     "evalue": "No module named 'numpy'",
     "output_type": "error",
     "traceback": [
      "\u001b[0;31m---------------------------------------------------------------------------\u001b[0m",
      "\u001b[0;31mModuleNotFoundError\u001b[0m                       Traceback (most recent call last)",
      "\u001b[0;32m<ipython-input-10-e16cdd69708d>\u001b[0m in \u001b[0;36m<module>\u001b[0;34m\u001b[0m\n\u001b[1;32m     11\u001b[0m \u001b[0;34m\u001b[0m\u001b[0m\n\u001b[1;32m     12\u001b[0m \u001b[0;31m# Step 2: Import necessary modules\u001b[0m\u001b[0;34m\u001b[0m\u001b[0;34m\u001b[0m\u001b[0;34m\u001b[0m\u001b[0m\n\u001b[0;32m---> 13\u001b[0;31m \u001b[0;32mimport\u001b[0m \u001b[0mnumpy\u001b[0m \u001b[0;32mas\u001b[0m \u001b[0mnp\u001b[0m\u001b[0;34m\u001b[0m\u001b[0;34m\u001b[0m\u001b[0m\n\u001b[0m\u001b[1;32m     14\u001b[0m \u001b[0;34m\u001b[0m\u001b[0m\n\u001b[1;32m     15\u001b[0m \u001b[0;31m# Step 3: Set up the encryption parameters\u001b[0m\u001b[0;34m\u001b[0m\u001b[0;34m\u001b[0m\u001b[0;34m\u001b[0m\u001b[0m\n",
      "\u001b[0;31mModuleNotFoundError\u001b[0m: No module named 'numpy'"
     ]
    }
   ],
   "source": [
    "import seal\n",
    "from seal import Ciphertext, \\\n",
    "    Decryptor, \\\n",
    "    Encryptor, \\\n",
    "    EncryptionParameters, \\\n",
    "    Evaluator, \\\n",
    "    IntegerEncoder, \\\n",
    "    KeyGenerator, \\\n",
    "    Plaintext, \\\n",
    "    SEALContext\n",
    "\n",
    "# Step 3: Set up the encryption parameters\n",
    "parms = seal.EncryptionParameters()\n",
    "parms.set_poly_modulus(\"1x^2048 + 1\")\n",
    "parms.set_coeff_modulus(seal.CoeffModulus.BFVDefault(2048))\n",
    "parms.set_plain_modulus(256)\n",
    "\n",
    "# Step 4: Create a context\n",
    "context = seal.Context(parms)\n",
    "\n",
    "# Step 5: Create an encryption key pair\n",
    "public_key = context.public_key()\n",
    "secret_key = context.secret_key()\n",
    "\n",
    "# Step 6: Encrypt the data\n",
    "encrypter = seal.Encryptor(context, public_key)\n",
    "data = np.array([7], dtype='int')\n",
    "ciphertext = seal.Ciphertext()\n",
    "encrypter.encrypt(data, ciphertext)\n",
    "\n",
    "# Step 7: Perform addition on encrypted data\n",
    "data2 = np.array([3], dtype='int')\n",
    "ciphertext2 = seal.Ciphertext()\n",
    "encrypter.encrypt(data2, ciphertext2)\n",
    "result = seal.Ciphertext()\n",
    "seal.evaluator.Evaluator(context).add_inplace(ciphertext, ciphertext2, result)\n",
    "\n",
    "# Step 8: Decrypt the result\n",
    "decrypter = seal.Decryptor(context, secret_key)\n",
    "plaintext = np.zeros_like(data)\n",
    "decrypter.decrypt(result, plaintext)\n",
    "print(plaintext) # Output: [10]"
   ]
  },
  {
   "cell_type": "markdown",
   "metadata": {},
   "source": [
    "In this example we demonstrate setting up encryption parameters and other\n",
    "relevant objects for performing simple computations on encrypted integers.\n",
    "\n",
    "SEAL uses the Fan-Vercauteren (FV) homomorphic encryption scheme. We refer to\n",
    "https://eprint.iacr.org/2012/144 for full details on how the FV scheme works.\n",
    "For better performance, SEAL implements the \"FullRNS\" optimization of FV, as\n",
    "described in https://eprint.iacr.org/2016/510.\n",
    "\n",
    "The first task is to set up an instance of the EncryptionParameters class.\n",
    "It is critical to understand how these different parameters behave, how they\n",
    "affect the encryption scheme, performance, and the security level. There are\n",
    "three encryption parameters that are necessary to set:\n",
    "\n",
    "    - poly_modulus (polynomial modulus);\n",
    "    - coeff_modulus ([ciphertext] coefficient modulus);\n",
    "    - plain_modulus (plaintext modulus).\n",
    "\n",
    "A fourth parameter -- noise_standard_deviation -- has a default value of 3.19\n",
    "and should not be necessary to modify unless the user has a specific reason\n",
    "to and knows what they are doing.\n",
    "\n",
    "The encryption scheme implemented in SEAL cannot perform arbitrary computations\n",
    "on encrypted data. Instead, each ciphertext has a specific quantity called the\n",
    "`invariant noise budget` -- or `noise budget` for short -- measured in bits.\n",
    "The noise budget of a freshly encrypted ciphertext (initial noise budget) is\n",
    "determined by the encryption parameters. Homomorphic operations consume the\n",
    "noise budget at a rate also determined by the encryption parameters. In SEAL\n",
    "the two basic homomorphic operations are additions and multiplications, of\n",
    "which additions can generally be thought of as being nearly free in terms of\n",
    "noise budget consumption compared to multiplications. Since noise budget\n",
    "consumption is compounding in sequential multiplications, the most significant\n",
    "factor in choosing appropriate encryption parameters is the multiplicative\n",
    "depth of the arithmetic circuit that needs to be evaluated. Once the noise\n",
    "budget in a ciphertext reaches zero, it becomes too corrupted to be decrypted.\n",
    "Thus, it is essential to choose the parameters to be large enough to support\n",
    "the desired computation; otherwise the result is impossible to make sense of\n",
    "even with the secret key.\n",
    "\n"
   ]
  },
  {
   "cell_type": "code",
   "execution_count": 4,
   "metadata": {},
   "outputs": [],
   "source": [
    "parms = EncryptionParameters()"
   ]
  },
  {
   "cell_type": "markdown",
   "metadata": {},
   "source": [
    "We first set the polynomial modulus. This must be a power-of-2 cyclotomic\n",
    "polynomial, i.e. a polynomial of the form \"1x<sup>power-of-2</sup> + 1\". The polynomial\n",
    "modulus should be thought of mainly affecting the security level of the scheme;\n",
    "larger polynomial modulus makes the scheme more secure. At the same time, it\n",
    "makes ciphertext sizes larger, and consequently all operations slower.\n",
    "Recommended degrees for `poly_modulus` are 1024, 2048, 4096, 8192, 16384, 32768,\n",
    "but it is also possible to go beyond this. Since we perform only a very small\n",
    "computation in this example, it suffices to use a very small polynomial modulus"
   ]
  },
  {
   "cell_type": "code",
   "execution_count": 5,
   "metadata": {},
   "outputs": [],
   "source": [
    "parms.set_poly_modulus(\"1x^2048 + 1\")"
   ]
  },
  {
   "cell_type": "markdown",
   "metadata": {},
   "source": [
    "Next we choose the [ciphertext] coefficient modulus (coeff_modulus). The size\n",
    "of the coefficient modulus should be thought of as the most significant factor\n",
    "in determining the noise budget in a freshly encrypted ciphertext: bigger means\n",
    "more noise budget. Unfortunately, a larger coefficient modulus also lowers the\n",
    "security level of the scheme. Thus, if a large noise budget is required for\n",
    "complicated computations, a large coefficient modulus needs to be used, and the\n",
    "reduction in the security level must be countered by simultaneously increasing\n",
    "the polynomial modulus.\n",
    "\n",
    "To make parameter selection easier for the user, we have constructed sets of\n",
    "largest allowed coefficient moduli for 128-bit and 192-bit security levels\n",
    "for different choices of the polynomial modulus. These recommended parameters\n",
    "follow the Security white paper at http://HomomorphicEncryption.org. However,\n",
    "due to the complexity of this topic, we highly recommend the user to directly\n",
    "consult an expert in homomorphic encryption and RLWE-based encryption schemes\n",
    "to determine the security of their parameter choices.\n",
    "\n",
    "Our recommended values for the coefficient modulus can be easily accessed\n",
    "through the functions\n",
    "\n",
    "    coeff_modulus_128bit(int)\n",
    "    coeff_modulus_192bit(int)\n",
    "\n",
    "for 128-bit and 192-bit security levels. The integer parameter is the degree\n",
    "of the polynomial modulus.\n",
    "\n",
    "In SEAL the coefficient modulus is a positive composite number -- a product\n",
    "of distinct primes of size up to 60 bits. When we talk about the size of the\n",
    "coefficient modulus we mean the bit length of the product of the small primes.\n",
    "The small primes are represented by instances of the SmallModulus class; for\n",
    "example coeff_modulus_128bit(int) returns a vector of SmallModulus instances.\n",
    "\n",
    "It is possible for the user to select their own small primes. Since SEAL uses\n",
    "the Number Theoretic Transform (NTT) for polynomial multiplications modulo the\n",
    "factors of the coefficient modulus, the factors need to be prime numbers\n",
    "congruent to 1 modulo 2*degree(poly_modulus). We have generated a list of such\n",
    "prime numbers of various sizes, that the user can easily access through the\n",
    "functions\n",
    "\n",
    "    small_mods_60bit(int)\n",
    "    small_mods_50bit(int)\n",
    "    small_mods_40bit(int)\n",
    "    small_mods_30bit(int)\n",
    "\n",
    "each of which gives access to an array of primes of the denoted size. These\n",
    "primes are located in the source file util/globals.cpp.\n",
    "\n",
    "Performance is mainly affected by the size of the polynomial modulus, and the\n",
    "number of prime factors in the coefficient modulus. Thus, it is important to\n",
    "use as few factors in the coefficient modulus as possible.\n",
    "\n",
    "In this example we use the default coefficient modulus for a 128-bit security\n",
    "level. Concretely, this coefficient modulus consists of only one 56-bit prime\n",
    "factor: 0xfffffffff00001.\n",
    "\n"
   ]
  },
  {
   "cell_type": "code",
   "execution_count": 4,
   "metadata": {},
   "outputs": [],
   "source": [
    "parms.set_coeff_modulus(seal.coeff_modulus_128(2048))"
   ]
  },
  {
   "cell_type": "markdown",
   "metadata": {},
   "source": [
    "The plaintext modulus can be any positive integer, even though here we take\n",
    "it to be a power of two. In fact, in many cases one might instead want it to\n",
    "be a prime number; we will see this in example_batching(). The plaintext\n",
    "modulus determines the size of the plaintext data type, but it also affects\n",
    "the noise budget in a freshly encrypted ciphertext, and the consumption of\n",
    "the noise budget in homomorphic multiplication. Thus, it is essential to try\n",
    "to keep the plaintext data type as small as possible for good performance.\n",
    "The noise budget in a freshly encrypted ciphertext is\n",
    "\n",
    "    ~ log2(coeff_modulus/plain_modulus) (bits)\n",
    "\n",
    "and the noise budget consumption in a homomorphic multiplication is of the\n",
    "form log2(plain_modulus) + (other terms)."
   ]
  },
  {
   "cell_type": "code",
   "execution_count": 5,
   "metadata": {},
   "outputs": [],
   "source": [
    "parms.set_plain_modulus(1 << 8)"
   ]
  },
  {
   "cell_type": "markdown",
   "metadata": {},
   "source": [
    "Now that all parameters are set, we are ready to construct a SEALContext\n",
    "object. This is a heavy class that checks the validity and properties of\n",
    "the parameters we just set, and performs and stores several important\n",
    "pre-computations."
   ]
  },
  {
   "cell_type": "code",
   "execution_count": 6,
   "metadata": {},
   "outputs": [],
   "source": [
    "context = SEALContext(parms)"
   ]
  },
  {
   "cell_type": "markdown",
   "metadata": {},
   "source": [
    "Print the parameters that we have chosen"
   ]
  },
  {
   "cell_type": "code",
   "execution_count": 6,
   "metadata": {},
   "outputs": [
    {
     "ename": "NameError",
     "evalue": "name 'context' is not defined",
     "output_type": "error",
     "traceback": [
      "\u001b[0;31m---------------------------------------------------------------------------\u001b[0m",
      "\u001b[0;31mNameError\u001b[0m                                 Traceback (most recent call last)",
      "\u001b[0;32m<ipython-input-6-8855128a49b8>\u001b[0m in \u001b[0;36m<module>\u001b[0;34m\u001b[0m\n\u001b[1;32m      8\u001b[0m     \u001b[0mprint\u001b[0m\u001b[0;34m(\u001b[0m\u001b[0;34m\"| plain_modulus: \"\u001b[0m \u001b[0;34m+\u001b[0m \u001b[0;34m(\u001b[0m\u001b[0mstr\u001b[0m\u001b[0;34m)\u001b[0m\u001b[0;34m(\u001b[0m\u001b[0mcontext\u001b[0m\u001b[0;34m.\u001b[0m\u001b[0mplain_modulus\u001b[0m\u001b[0;34m(\u001b[0m\u001b[0;34m)\u001b[0m\u001b[0;34m.\u001b[0m\u001b[0mvalue\u001b[0m\u001b[0;34m(\u001b[0m\u001b[0;34m)\u001b[0m\u001b[0;34m)\u001b[0m\u001b[0;34m)\u001b[0m\u001b[0;34m\u001b[0m\u001b[0;34m\u001b[0m\u001b[0m\n\u001b[1;32m      9\u001b[0m     \u001b[0mprint\u001b[0m\u001b[0;34m(\u001b[0m\u001b[0;34m\"| noise_standard_deviation: \"\u001b[0m \u001b[0;34m+\u001b[0m \u001b[0;34m(\u001b[0m\u001b[0mstr\u001b[0m\u001b[0;34m)\u001b[0m\u001b[0;34m(\u001b[0m\u001b[0mcontext\u001b[0m\u001b[0;34m.\u001b[0m\u001b[0mnoise_standard_deviation\u001b[0m\u001b[0;34m(\u001b[0m\u001b[0;34m)\u001b[0m\u001b[0;34m)\u001b[0m\u001b[0;34m)\u001b[0m\u001b[0;34m\u001b[0m\u001b[0;34m\u001b[0m\u001b[0m\n\u001b[0;32m---> 10\u001b[0;31m \u001b[0mprint_parameters\u001b[0m\u001b[0;34m(\u001b[0m\u001b[0mcontext\u001b[0m\u001b[0;34m)\u001b[0m\u001b[0;34m;\u001b[0m\u001b[0;34m\u001b[0m\u001b[0;34m\u001b[0m\u001b[0m\n\u001b[0m",
      "\u001b[0;31mNameError\u001b[0m: name 'context' is not defined"
     ]
    }
   ],
   "source": [
    "def print_parameters(context):\n",
    "    print(\"/ Encryption parameters:\")\n",
    "    print(\"| poly_modulus: \" + context.poly_modulus().to_string())\n",
    "    \n",
    "    # Print the size of the true (product) coefficient modulus\n",
    "    print(\"| coeff_modulus_size: \" + (str)(context.total_coeff_modulus().significant_bit_count()) + \" bits\")\n",
    "\n",
    "    print(\"| plain_modulus: \" + (str)(context.plain_modulus().value()))\n",
    "    print(\"| noise_standard_deviation: \" + (str)(context.noise_standard_deviation()))\n",
    "print_parameters(context);"
   ]
  },
  {
   "cell_type": "markdown",
   "metadata": {},
   "source": [
    "Plaintexts in the FV scheme are polynomials with coefficients integers modulo\n",
    "plain_modulus. To encrypt for example integers instead, one can use an\n",
    "`encoding scheme' to represent the integers as such polynomials. SEAL comes\n",
    "with a few basic encoders:\n",
    "\n",
    "[IntegerEncoder]\n",
    "Given an integer base b, encodes integers as plaintext polynomials as follows.\n",
    "First, a base-b expansion of the integer is computed. This expansion uses\n",
    "a `balanced' set of representatives of integers modulo b as the coefficients.\n",
    "Namely, when b is odd the coefficients are integers between -(b-1)/2 and\n",
    "(b-1)/2. When b is even, the integers are between -b/2 and (b-1)/2, except\n",
    "when b is two and the usual binary expansion is used (coefficients 0 and 1).\n",
    "Decoding amounts to evaluating the polynomial at x=b. For example, if b=2,\n",
    "the integer\n",
    "\n",
    "    26 = 2^4 + 2^3 + 2^1\n",
    "\n",
    "is encoded as the polynomial 1x^4 + 1x^3 + 1x^1. When b=3,\n",
    "\n",
    "    26 = 3^3 - 3^0\n",
    "\n",
    "is encoded as the polynomial 1x^3 - 1. In memory polynomial coefficients are\n",
    "always stored as unsigned integers by storing their smallest non-negative\n",
    "representatives modulo plain_modulus. To create a base-b integer encoder,\n",
    "use the constructor IntegerEncoder(plain_modulus, b). If no b is given, b=2\n",
    "is used.\n",
    "\n",
    "[FractionalEncoder]\n",
    "The FractionalEncoder encodes fixed-precision rational numbers as follows.\n",
    "It expands the number in a given base b, possibly truncating an infinite\n",
    "fractional part to finite precision, e.g.\n",
    "\n",
    "    26.75 = 2^4 + 2^3 + 2^1 + 2^(-1) + 2^(-2)\n",
    "\n",
    "when b=2. For the sake of the example, suppose poly_modulus is 1x^1024 + 1.\n",
    "It then represents the integer part of the number in the same way as in\n",
    "IntegerEncoder (with b=2 here), and moves the fractional part instead to the\n",
    "highest degree part of the polynomial, but with signs of the coefficients\n",
    "changed. In this example we would represent 26.75 as the polynomial\n",
    "\n",
    "    -1x^1023 - 1x^1022 + 1x^4 + 1x^3 + 1x^1.\n",
    "\n",
    "In memory the negative coefficients of the polynomial will be represented as\n",
    "their negatives modulo plain_modulus.\n",
    "\n",
    "[PolyCRTBuilder]\n",
    "If plain_modulus is a prime congruent to 1 modulo 2*degree(poly_modulus), the\n",
    "plaintext elements can be viewed as 2-by-(degree(poly_modulus) / 2) matrices\n",
    "with elements integers modulo plain_modulus. When a desired computation can be\n",
    "vectorized, using PolyCRTBuilder can result in massive performance improvements\n",
    "over naively encrypting and operating on each input number separately. Thus,\n",
    "in more complicated computations this is likely to be by far the most important\n",
    "and useful encoder. In example_batching() we show how to use and operate on\n",
    "encrypted matrix plaintexts.\n",
    "\n",
    "For performance reasons, in homomorphic encryption one typically wants to keep\n",
    "the plaintext data types as small as possible, which can make it challenging to\n",
    "prevent data type overflow in more complicated computations, especially when\n",
    "operating on rational numbers that have been scaled to integers. When using\n",
    "PolyCRTBuilder estimating whether an overflow occurs is a fairly standard task,\n",
    "as the matrix slots are integers modulo plain_modulus, and each slot is operated\n",
    "on independently of the others. When using IntegerEncoder or FractionalEncoder\n",
    "it is substantially more difficult to estimate when an overflow occurs in the\n",
    "plaintext, and choosing the plaintext modulus very carefully to be large enough\n",
    "is critical to avoid unexpected results. Specifically, one needs to estimate how\n",
    "large the largest coefficient in  the polynomial view of all of the plaintext\n",
    "elements becomes, and choose the plaintext modulus to be larger than this value.\n",
    "SEAL comes with an automatic parameter selection tool that can help with this\n",
    "task, as is demonstrated in example_parameter_selection().\n",
    "\n",
    "Here we choose to create an IntegerEncoder with base b=2.\n",
    "\n"
   ]
  },
  {
   "cell_type": "code",
   "execution_count": 8,
   "metadata": {},
   "outputs": [],
   "source": [
    "encoder = IntegerEncoder(context.plain_modulus())"
   ]
  },
  {
   "cell_type": "markdown",
   "metadata": {},
   "source": [
    "We are now ready to generate the secret and public keys. For this purpose we need\n",
    "an instance of the KeyGenerator class. Constructing a KeyGenerator automatically\n",
    "generates the public and secret key, which can then be read to local variables.\n",
    "To create a fresh pair of keys one can call `KeyGenerator::generate()` at any time."
   ]
  },
  {
   "cell_type": "code",
   "execution_count": 9,
   "metadata": {},
   "outputs": [],
   "source": [
    "keygen = KeyGenerator(context)\n",
    "public_key = keygen.public_key()\n",
    "secret_key = keygen.secret_key()"
   ]
  },
  {
   "cell_type": "markdown",
   "metadata": {},
   "source": [
    "To be able to encrypt, we need to construct an instance of Encryptor. Note that\n",
    "the Encryptor only requires the public key."
   ]
  },
  {
   "cell_type": "code",
   "execution_count": 10,
   "metadata": {},
   "outputs": [],
   "source": [
    "encryptor = Encryptor(context, public_key)"
   ]
  },
  {
   "cell_type": "markdown",
   "metadata": {},
   "source": [
    "Computations on the ciphertexts are performed with the Evaluator class."
   ]
  },
  {
   "cell_type": "code",
   "execution_count": 11,
   "metadata": {},
   "outputs": [],
   "source": [
    "evaluator = Evaluator(context)"
   ]
  },
  {
   "cell_type": "markdown",
   "metadata": {},
   "source": [
    "We will of course want to decrypt our results to verify that everything worked,\n",
    "so we need to also construct an instance of Decryptor. Note that the Decryptor\n",
    "requires the secret key."
   ]
  },
  {
   "cell_type": "code",
   "execution_count": 12,
   "metadata": {},
   "outputs": [],
   "source": [
    "decryptor = Decryptor(context, secret_key)"
   ]
  },
  {
   "cell_type": "markdown",
   "metadata": {},
   "source": [
    "We start by encoding two integers as plaintext polynomials."
   ]
  },
  {
   "cell_type": "code",
   "execution_count": 13,
   "metadata": {},
   "outputs": [
    {
     "name": "stdout",
     "output_type": "stream",
     "text": [
      "Encoded 5 as polynomial 1x^2 + 1 (plain1)\n"
     ]
    }
   ],
   "source": [
    "value1 = 5;\n",
    "plain1 = encoder.encode(value1);\n",
    "print(\"Encoded \" + (str)(value1) + \" as polynomial \" + plain1.to_string() + \" (plain1)\")"
   ]
  },
  {
   "cell_type": "code",
   "execution_count": 14,
   "metadata": {},
   "outputs": [
    {
     "name": "stdout",
     "output_type": "stream",
     "text": [
      "Encoded -7 as polynomial FFx^2 + FFx^1 + FF (plain2)\n"
     ]
    }
   ],
   "source": [
    "value2 = -7;\n",
    "plain2 = encoder.encode(value2);\n",
    "print(\"Encoded \" + (str)(value2) + \" as polynomial \" + plain2.to_string() + \" (plain2)\")"
   ]
  },
  {
   "cell_type": "markdown",
   "metadata": {},
   "source": [
    "Encrypting the values is easy."
   ]
  },
  {
   "cell_type": "code",
   "execution_count": 15,
   "metadata": {},
   "outputs": [
    {
     "name": "stdout",
     "output_type": "stream",
     "text": [
      "Encrypting plain1: \n",
      "Done (encrypted1)\n",
      "Encrypting plain2: \n",
      "Done (encrypted2)\n"
     ]
    }
   ],
   "source": [
    "encrypted1 = Ciphertext()\n",
    "encrypted2 = Ciphertext()\n",
    "print(\"Encrypting plain1: \")\n",
    "encryptor.encrypt(plain1, encrypted1)\n",
    "print(\"Done (encrypted1)\")\n",
    "\n",
    "print(\"Encrypting plain2: \")\n",
    "encryptor.encrypt(plain2, encrypted2)\n",
    "print(\"Done (encrypted2)\")"
   ]
  },
  {
   "cell_type": "markdown",
   "metadata": {},
   "source": [
    "To illustrate the concept of noise budget, we print the budgets in the fresh encryptions."
   ]
  },
  {
   "cell_type": "code",
   "execution_count": 16,
   "metadata": {},
   "outputs": [
    {
     "name": "stdout",
     "output_type": "stream",
     "text": [
      "Noise budget in encrypted1: 38 bits\n",
      "Noise budget in encrypted2: 38 bits\n"
     ]
    }
   ],
   "source": [
    "print(\"Noise budget in encrypted1: \" + (str)(decryptor.invariant_noise_budget(encrypted1)) + \" bits\")\n",
    "print(\"Noise budget in encrypted2: \" + (str)(decryptor.invariant_noise_budget(encrypted2)) + \" bits\")"
   ]
  },
  {
   "cell_type": "markdown",
   "metadata": {},
   "source": [
    "As a simple example, we compute (-encrypted1 + encrypted2) * encrypted2.\n",
    "Negation is a unary operation."
   ]
  },
  {
   "cell_type": "code",
   "execution_count": 17,
   "metadata": {},
   "outputs": [],
   "source": [
    "evaluator.negate(encrypted1)"
   ]
  },
  {
   "cell_type": "markdown",
   "metadata": {},
   "source": [
    "Negation does not consume any noise budget."
   ]
  },
  {
   "cell_type": "code",
   "execution_count": 18,
   "metadata": {},
   "outputs": [
    {
     "name": "stdout",
     "output_type": "stream",
     "text": [
      "Noise budget in -encrypted1: 38 bits\n"
     ]
    }
   ],
   "source": [
    "print(\"Noise budget in -encrypted1: \" + (str)(decryptor.invariant_noise_budget(encrypted1)) + \" bits\")"
   ]
  },
  {
   "cell_type": "markdown",
   "metadata": {},
   "source": [
    "Addition can be done in-place (overwriting the first argument with the result,\n",
    "or alternatively a three-argument overload with a separate destination variable\n",
    "can be used. The in-place variants are always more efficient. Here we overwrite\n",
    "encrypted1 with the sum."
   ]
  },
  {
   "cell_type": "code",
   "execution_count": 19,
   "metadata": {},
   "outputs": [],
   "source": [
    "evaluator.add(encrypted1, encrypted2)"
   ]
  },
  {
   "cell_type": "markdown",
   "metadata": {},
   "source": [
    "It is instructive to think that addition sets the noise budget to the minimum\n",
    "of the input noise budgets. In this case both inputs had roughly the same\n",
    "budget going on, and the output (in encrypted1) has just slightly lower budget.\n",
    "Depending on probabilistic effects, the noise growth consumption may or may\n",
    "not be visible when measured in whole bits."
   ]
  },
  {
   "cell_type": "code",
   "execution_count": 20,
   "metadata": {},
   "outputs": [
    {
     "name": "stdout",
     "output_type": "stream",
     "text": [
      "Noise budget in -encrypted1 + encrypted2: 37 bits\n"
     ]
    }
   ],
   "source": [
    "print(\"Noise budget in -encrypted1 + encrypted2: \" + (str)(decryptor.invariant_noise_budget(encrypted1)) + \" bits\")"
   ]
  },
  {
   "cell_type": "markdown",
   "metadata": {},
   "source": [
    "Finally multiply with encrypted2. Again, we use the in-place version of the\n",
    "function, overwriting encrypted1 with the product."
   ]
  },
  {
   "cell_type": "code",
   "execution_count": 21,
   "metadata": {},
   "outputs": [],
   "source": [
    "evaluator.multiply(encrypted1, encrypted2)"
   ]
  },
  {
   "cell_type": "markdown",
   "metadata": {},
   "source": [
    "Multiplication consumes a lot of noise budget. This is clearly seen in the\n",
    "print-out. The user can change the plain_modulus to see its effect on the\n",
    "rate of noise budget consumption."
   ]
  },
  {
   "cell_type": "code",
   "execution_count": 22,
   "metadata": {},
   "outputs": [
    {
     "name": "stdout",
     "output_type": "stream",
     "text": [
      "Noise budget in (-encrypted1 + encrypted2) * encrypted2: 19 bits\n"
     ]
    }
   ],
   "source": [
    "print(\"Noise budget in (-encrypted1 + encrypted2) * encrypted2: \" + (str)(decryptor.invariant_noise_budget(encrypted1)) + \" bits\")"
   ]
  },
  {
   "cell_type": "markdown",
   "metadata": {},
   "source": [
    "Now we decrypt and decode our result."
   ]
  },
  {
   "cell_type": "code",
   "execution_count": 23,
   "metadata": {},
   "outputs": [
    {
     "name": "stdout",
     "output_type": "stream",
     "text": [
      "Decrypting result: \n",
      "Done\n"
     ]
    }
   ],
   "source": [
    "plain_result = Plaintext()\n",
    "print(\"Decrypting result: \")\n",
    "decryptor.decrypt(encrypted1, plain_result)\n",
    "print(\"Done\")"
   ]
  },
  {
   "cell_type": "markdown",
   "metadata": {},
   "source": [
    "Print the result plaintext polynomial.\n",
    "\n"
   ]
  },
  {
   "cell_type": "code",
   "execution_count": 24,
   "metadata": {},
   "outputs": [
    {
     "name": "stdout",
     "output_type": "stream",
     "text": [
      "Plaintext polynomial: 2x^4 + 3x^3 + 5x^2 + 3x^1 + 2\n"
     ]
    }
   ],
   "source": [
    "print(\"Plaintext polynomial: \" + plain_result.to_string())"
   ]
  },
  {
   "cell_type": "markdown",
   "metadata": {},
   "source": [
    "Decode to obtain an integer result."
   ]
  },
  {
   "cell_type": "code",
   "execution_count": 25,
   "metadata": {},
   "outputs": [
    {
     "name": "stdout",
     "output_type": "stream",
     "text": [
      "Decoded integer: 84\n"
     ]
    }
   ],
   "source": [
    "print(\"Decoded integer: \" + (str)(encoder.decode_int32(plain_result)))"
   ]
  }
 ],
 "metadata": {
  "kernelspec": {
   "display_name": "Python 3",
   "language": "python",
   "name": "python3"
  },
  "language_info": {
   "codemirror_mode": {
    "name": "ipython",
    "version": 3
   },
   "file_extension": ".py",
   "mimetype": "text/x-python",
   "name": "python",
   "nbconvert_exporter": "python",
   "pygments_lexer": "ipython3",
   "version": "3.6.9"
  }
 },
 "nbformat": 4,
 "nbformat_minor": 2
}
