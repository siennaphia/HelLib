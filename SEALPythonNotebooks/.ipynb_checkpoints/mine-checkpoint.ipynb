{
 "cells": [
  {
   "cell_type": "code",
   "execution_count": 1,
   "metadata": {},
   "outputs": [
    {
     "name": "stdout",
     "output_type": "stream",
     "text": [
      "This is a test!\n"
     ]
    }
   ],
   "source": [
    "import seal\n",
    "from seal import Ciphertext, \\\n",
    "    Decryptor, \\\n",
    "    Encryptor, \\\n",
    "    EncryptionParameters, \\\n",
    "    Evaluator, \\\n",
    "    IntegerEncoder, \\\n",
    "    KeyGenerator, \\\n",
    "    Plaintext, \\\n",
    "    SEALContext\n",
    "import numpy as np\n",
    "\n",
    "print(\"This is a test!\")\n"
   ]
  },
  {
   "cell_type": "code",
   "execution_count": null,
   "metadata": {},
   "outputs": [],
   "source": []
  }
 ],
 "metadata": {
  "kernelspec": {
   "display_name": "Python 3",
   "language": "python",
   "name": "python3"
  },
  "language_info": {
   "codemirror_mode": {
    "name": "ipython",
    "version": 3
   },
   "file_extension": ".py",
   "mimetype": "text/x-python",
   "name": "python",
   "nbconvert_exporter": "python",
   "pygments_lexer": "ipython3",
   "version": "3.6.9"
  }
 },
 "nbformat": 4,
 "nbformat_minor": 2
}
